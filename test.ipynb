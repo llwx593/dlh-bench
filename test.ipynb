{
 "metadata": {
  "language_info": {
   "codemirror_mode": {
    "name": "ipython",
    "version": 3
   },
   "file_extension": ".py",
   "mimetype": "text/x-python",
   "name": "python",
   "nbconvert_exporter": "python",
   "pygments_lexer": "ipython3",
   "version": "3.8.5-final"
  },
  "orig_nbformat": 2,
  "kernelspec": {
   "name": "python3",
   "display_name": "Python 3.8.5 64-bit ('py38': conda)",
   "metadata": {
    "interpreter": {
     "hash": "1496957c8aab37590f76db8a7e1516009df8da77cd429dbad15e6134d7f74499"
    }
   }
  }
 },
 "nbformat": 4,
 "nbformat_minor": 2,
 "cells": [
  {
   "cell_type": "code",
   "execution_count": 11,
   "metadata": {},
   "outputs": [],
   "source": [
    "import torch\n",
    "from torchvision.models import densenet121\n",
    "import pretrained_models as pm\n",
    "from thop import profile"
   ]
  },
  {
   "cell_type": "code",
   "execution_count": 12,
   "metadata": {},
   "outputs": [
    {
     "output_type": "stream",
     "name": "stdout",
     "text": [
      "[INFO] Register count_convNd() for <class 'torch.nn.modules.conv.Conv2d'>.\n[INFO] Register count_bn() for <class 'torch.nn.modules.batchnorm.BatchNorm2d'>.\n[INFO] Register zero_ops() for <class 'torch.nn.modules.activation.ReLU'>.\n[INFO] Register zero_ops() for <class 'torch.nn.modules.pooling.MaxPool2d'>.\n\u001b[91m[WARN] Cannot find rule for <class 'torch.nn.modules.container.Sequential'>. Treat it as zero Macs and zero Params.\u001b[00m\n[INFO] Register count_adap_avgpool() for <class 'torch.nn.modules.pooling.AdaptiveAvgPool2d'>.\n\u001b[91m[WARN] Cannot find rule for <class 'torch.nn.modules.activation.Sigmoid'>. Treat it as zero Macs and zero Params.\u001b[00m\n\u001b[91m[WARN] Cannot find rule for <class 'pretrained_models.models.classfication_model.SEModule'>. Treat it as zero Macs and zero Params.\u001b[00m\n\u001b[91m[WARN] Cannot find rule for <class 'pretrained_models.models.classfication_model.SEBottleneck'>. Treat it as zero Macs and zero Params.\u001b[00m\n[INFO] Register count_avgpool() for <class 'torch.nn.modules.pooling.AvgPool2d'>.\n[INFO] Register zero_ops() for <class 'torch.nn.modules.dropout.Dropout'>.\n[INFO] Register count_linear() for <class 'torch.nn.modules.linear.Linear'>.\n\u001b[91m[WARN] Cannot find rule for <class 'pretrained_models.models.classfication_model.SENet'>. Treat it as zero Macs and zero Params.\u001b[00m\n"
     ]
    }
   ],
   "source": [
    "model = pm.__dict__['senet154']()\n",
    "img = torch.randn(1, 3, 224, 224)\n",
    "op, params = profile(model, inputs=(img, ))"
   ]
  },
  {
   "cell_type": "code",
   "execution_count": 13,
   "metadata": {},
   "outputs": [
    {
     "output_type": "stream",
     "name": "stdout",
     "text": [
      "the number of op is  20778881456.0\nthe number of params is  115088984.0\n"
     ]
    }
   ],
   "source": [
    "print(\"the number of op is \", op)\n",
    "print(\"the number of params is \", params)"
   ]
  },
  {
   "cell_type": "code",
   "execution_count": 4,
   "metadata": {},
   "outputs": [],
   "source": [
    "import torch\n",
    "import pretrained_models as pm"
   ]
  },
  {
   "cell_type": "code",
   "execution_count": 5,
   "metadata": {},
   "outputs": [],
   "source": [
    "from ptflops import get_model_complexity_info"
   ]
  },
  {
   "cell_type": "code",
   "execution_count": 6,
   "metadata": {
    "tags": [
     "outputPrepend"
    ]
   },
   "outputs": [
    {
     "output_type": "stream",
     "name": "stdout",
     "text": [
      "arams, 0.0 GMac, 0.000% MACs, inplace=True)\n",
      "        (fc2): Conv2d(0.067 M, 0.058% Params, 0.0 GMac, 0.000% MACs, 64, 1024, kernel_size=(1, 1), stride=(1, 1))\n",
      "        (sigmoid): Sigmoid(0.0 M, 0.000% Params, 0.0 GMac, 0.000% MACs, )\n",
      "      )\n",
      "    )\n",
      "    (27): SEBottleneck(\n",
      "      1.784 M, 1.550% Params, 0.325 GMac, 1.559% MACs, \n",
      "      (conv1): Conv2d(0.524 M, 0.456% Params, 0.103 GMac, 0.494% MACs, 1024, 512, kernel_size=(1, 1), stride=(1, 1), bias=False)\n",
      "      (bn1): BatchNorm2d(0.001 M, 0.001% Params, 0.0 GMac, 0.001% MACs, 512, eps=1e-05, momentum=0.1, affine=True, track_running_stats=True)\n",
      "      (conv2): Conv2d(0.074 M, 0.064% Params, 0.014 GMac, 0.069% MACs, 512, 1024, kernel_size=(3, 3), stride=(1, 1), padding=(1, 1), groups=64, bias=False)\n",
      "      (bn2): BatchNorm2d(0.002 M, 0.002% Params, 0.0 GMac, 0.002% MACs, 1024, eps=1e-05, momentum=0.1, affine=True, track_running_stats=True)\n",
      "      (conv3): Conv2d(1.049 M, 0.911% Params, 0.206 GMac, 0.987% MACs, 1024, 1024, kernel_size=(1, 1), stride=(1, 1), bias=False)\n",
      "      (bn3): BatchNorm2d(0.002 M, 0.002% Params, 0.0 GMac, 0.002% MACs, 1024, eps=1e-05, momentum=0.1, affine=True, track_running_stats=True)\n",
      "      (relu): ReLU(0.0 M, 0.000% Params, 0.001 GMac, 0.002% MACs, inplace=True)\n",
      "      (se_module): SEModule(\n",
      "        0.132 M, 0.115% Params, 0.0 GMac, 0.002% MACs, \n",
      "        (avg_pool): AdaptiveAvgPool2d(0.0 M, 0.000% Params, 0.0 GMac, 0.001% MACs, output_size=1)\n",
      "        (fc1): Conv2d(0.066 M, 0.057% Params, 0.0 GMac, 0.000% MACs, 1024, 64, kernel_size=(1, 1), stride=(1, 1))\n",
      "        (relu): ReLU(0.0 M, 0.000% Params, 0.0 GMac, 0.000% MACs, inplace=True)\n",
      "        (fc2): Conv2d(0.067 M, 0.058% Params, 0.0 GMac, 0.000% MACs, 64, 1024, kernel_size=(1, 1), stride=(1, 1))\n",
      "        (sigmoid): Sigmoid(0.0 M, 0.000% Params, 0.0 GMac, 0.000% MACs, )\n",
      "      )\n",
      "    )\n",
      "    (28): SEBottleneck(\n",
      "      1.784 M, 1.550% Params, 0.325 GMac, 1.559% MACs, \n",
      "      (conv1): Conv2d(0.524 M, 0.456% Params, 0.103 GMac, 0.494% MACs, 1024, 512, kernel_size=(1, 1), stride=(1, 1), bias=False)\n",
      "      (bn1): BatchNorm2d(0.001 M, 0.001% Params, 0.0 GMac, 0.001% MACs, 512, eps=1e-05, momentum=0.1, affine=True, track_running_stats=True)\n",
      "      (conv2): Conv2d(0.074 M, 0.064% Params, 0.014 GMac, 0.069% MACs, 512, 1024, kernel_size=(3, 3), stride=(1, 1), padding=(1, 1), groups=64, bias=False)\n",
      "      (bn2): BatchNorm2d(0.002 M, 0.002% Params, 0.0 GMac, 0.002% MACs, 1024, eps=1e-05, momentum=0.1, affine=True, track_running_stats=True)\n",
      "      (conv3): Conv2d(1.049 M, 0.911% Params, 0.206 GMac, 0.987% MACs, 1024, 1024, kernel_size=(1, 1), stride=(1, 1), bias=False)\n",
      "      (bn3): BatchNorm2d(0.002 M, 0.002% Params, 0.0 GMac, 0.002% MACs, 1024, eps=1e-05, momentum=0.1, affine=True, track_running_stats=True)\n",
      "      (relu): ReLU(0.0 M, 0.000% Params, 0.001 GMac, 0.002% MACs, inplace=True)\n",
      "      (se_module): SEModule(\n",
      "        0.132 M, 0.115% Params, 0.0 GMac, 0.002% MACs, \n",
      "        (avg_pool): AdaptiveAvgPool2d(0.0 M, 0.000% Params, 0.0 GMac, 0.001% MACs, output_size=1)\n",
      "        (fc1): Conv2d(0.066 M, 0.057% Params, 0.0 GMac, 0.000% MACs, 1024, 64, kernel_size=(1, 1), stride=(1, 1))\n",
      "        (relu): ReLU(0.0 M, 0.000% Params, 0.0 GMac, 0.000% MACs, inplace=True)\n",
      "        (fc2): Conv2d(0.067 M, 0.058% Params, 0.0 GMac, 0.000% MACs, 64, 1024, kernel_size=(1, 1), stride=(1, 1))\n",
      "        (sigmoid): Sigmoid(0.0 M, 0.000% Params, 0.0 GMac, 0.000% MACs, )\n",
      "      )\n",
      "    )\n",
      "    (29): SEBottleneck(\n",
      "      1.784 M, 1.550% Params, 0.325 GMac, 1.559% MACs, \n",
      "      (conv1): Conv2d(0.524 M, 0.456% Params, 0.103 GMac, 0.494% MACs, 1024, 512, kernel_size=(1, 1), stride=(1, 1), bias=False)\n",
      "      (bn1): BatchNorm2d(0.001 M, 0.001% Params, 0.0 GMac, 0.001% MACs, 512, eps=1e-05, momentum=0.1, affine=True, track_running_stats=True)\n",
      "      (conv2): Conv2d(0.074 M, 0.064% Params, 0.014 GMac, 0.069% MACs, 512, 1024, kernel_size=(3, 3), stride=(1, 1), padding=(1, 1), groups=64, bias=False)\n",
      "      (bn2): BatchNorm2d(0.002 M, 0.002% Params, 0.0 GMac, 0.002% MACs, 1024, eps=1e-05, momentum=0.1, affine=True, track_running_stats=True)\n",
      "      (conv3): Conv2d(1.049 M, 0.911% Params, 0.206 GMac, 0.987% MACs, 1024, 1024, kernel_size=(1, 1), stride=(1, 1), bias=False)\n",
      "      (bn3): BatchNorm2d(0.002 M, 0.002% Params, 0.0 GMac, 0.002% MACs, 1024, eps=1e-05, momentum=0.1, affine=True, track_running_stats=True)\n",
      "      (relu): ReLU(0.0 M, 0.000% Params, 0.001 GMac, 0.002% MACs, inplace=True)\n",
      "      (se_module): SEModule(\n",
      "        0.132 M, 0.115% Params, 0.0 GMac, 0.002% MACs, \n",
      "        (avg_pool): AdaptiveAvgPool2d(0.0 M, 0.000% Params, 0.0 GMac, 0.001% MACs, output_size=1)\n",
      "        (fc1): Conv2d(0.066 M, 0.057% Params, 0.0 GMac, 0.000% MACs, 1024, 64, kernel_size=(1, 1), stride=(1, 1))\n",
      "        (relu): ReLU(0.0 M, 0.000% Params, 0.0 GMac, 0.000% MACs, inplace=True)\n",
      "        (fc2): Conv2d(0.067 M, 0.058% Params, 0.0 GMac, 0.000% MACs, 64, 1024, kernel_size=(1, 1), stride=(1, 1))\n",
      "        (sigmoid): Sigmoid(0.0 M, 0.000% Params, 0.0 GMac, 0.000% MACs, )\n",
      "      )\n",
      "    )\n",
      "    (30): SEBottleneck(\n",
      "      1.784 M, 1.550% Params, 0.325 GMac, 1.559% MACs, \n",
      "      (conv1): Conv2d(0.524 M, 0.456% Params, 0.103 GMac, 0.494% MACs, 1024, 512, kernel_size=(1, 1), stride=(1, 1), bias=False)\n",
      "      (bn1): BatchNorm2d(0.001 M, 0.001% Params, 0.0 GMac, 0.001% MACs, 512, eps=1e-05, momentum=0.1, affine=True, track_running_stats=True)\n",
      "      (conv2): Conv2d(0.074 M, 0.064% Params, 0.014 GMac, 0.069% MACs, 512, 1024, kernel_size=(3, 3), stride=(1, 1), padding=(1, 1), groups=64, bias=False)\n",
      "      (bn2): BatchNorm2d(0.002 M, 0.002% Params, 0.0 GMac, 0.002% MACs, 1024, eps=1e-05, momentum=0.1, affine=True, track_running_stats=True)\n",
      "      (conv3): Conv2d(1.049 M, 0.911% Params, 0.206 GMac, 0.987% MACs, 1024, 1024, kernel_size=(1, 1), stride=(1, 1), bias=False)\n",
      "      (bn3): BatchNorm2d(0.002 M, 0.002% Params, 0.0 GMac, 0.002% MACs, 1024, eps=1e-05, momentum=0.1, affine=True, track_running_stats=True)\n",
      "      (relu): ReLU(0.0 M, 0.000% Params, 0.001 GMac, 0.002% MACs, inplace=True)\n",
      "      (se_module): SEModule(\n",
      "        0.132 M, 0.115% Params, 0.0 GMac, 0.002% MACs, \n",
      "        (avg_pool): AdaptiveAvgPool2d(0.0 M, 0.000% Params, 0.0 GMac, 0.001% MACs, output_size=1)\n",
      "        (fc1): Conv2d(0.066 M, 0.057% Params, 0.0 GMac, 0.000% MACs, 1024, 64, kernel_size=(1, 1), stride=(1, 1))\n",
      "        (relu): ReLU(0.0 M, 0.000% Params, 0.0 GMac, 0.000% MACs, inplace=True)\n",
      "        (fc2): Conv2d(0.067 M, 0.058% Params, 0.0 GMac, 0.000% MACs, 64, 1024, kernel_size=(1, 1), stride=(1, 1))\n",
      "        (sigmoid): Sigmoid(0.0 M, 0.000% Params, 0.0 GMac, 0.000% MACs, )\n",
      "      )\n",
      "    )\n",
      "    (31): SEBottleneck(\n",
      "      1.784 M, 1.550% Params, 0.325 GMac, 1.559% MACs, \n",
      "      (conv1): Conv2d(0.524 M, 0.456% Params, 0.103 GMac, 0.494% MACs, 1024, 512, kernel_size=(1, 1), stride=(1, 1), bias=False)\n",
      "      (bn1): BatchNorm2d(0.001 M, 0.001% Params, 0.0 GMac, 0.001% MACs, 512, eps=1e-05, momentum=0.1, affine=True, track_running_stats=True)\n",
      "      (conv2): Conv2d(0.074 M, 0.064% Params, 0.014 GMac, 0.069% MACs, 512, 1024, kernel_size=(3, 3), stride=(1, 1), padding=(1, 1), groups=64, bias=False)\n",
      "      (bn2): BatchNorm2d(0.002 M, 0.002% Params, 0.0 GMac, 0.002% MACs, 1024, eps=1e-05, momentum=0.1, affine=True, track_running_stats=True)\n",
      "      (conv3): Conv2d(1.049 M, 0.911% Params, 0.206 GMac, 0.987% MACs, 1024, 1024, kernel_size=(1, 1), stride=(1, 1), bias=False)\n",
      "      (bn3): BatchNorm2d(0.002 M, 0.002% Params, 0.0 GMac, 0.002% MACs, 1024, eps=1e-05, momentum=0.1, affine=True, track_running_stats=True)\n",
      "      (relu): ReLU(0.0 M, 0.000% Params, 0.001 GMac, 0.002% MACs, inplace=True)\n",
      "      (se_module): SEModule(\n",
      "        0.132 M, 0.115% Params, 0.0 GMac, 0.002% MACs, \n",
      "        (avg_pool): AdaptiveAvgPool2d(0.0 M, 0.000% Params, 0.0 GMac, 0.001% MACs, output_size=1)\n",
      "        (fc1): Conv2d(0.066 M, 0.057% Params, 0.0 GMac, 0.000% MACs, 1024, 64, kernel_size=(1, 1), stride=(1, 1))\n",
      "        (relu): ReLU(0.0 M, 0.000% Params, 0.0 GMac, 0.000% MACs, inplace=True)\n",
      "        (fc2): Conv2d(0.067 M, 0.058% Params, 0.0 GMac, 0.000% MACs, 64, 1024, kernel_size=(1, 1), stride=(1, 1))\n",
      "        (sigmoid): Sigmoid(0.0 M, 0.000% Params, 0.0 GMac, 0.000% MACs, )\n",
      "      )\n",
      "    )\n",
      "    (32): SEBottleneck(\n",
      "      1.784 M, 1.550% Params, 0.325 GMac, 1.559% MACs, \n",
      "      (conv1): Conv2d(0.524 M, 0.456% Params, 0.103 GMac, 0.494% MACs, 1024, 512, kernel_size=(1, 1), stride=(1, 1), bias=False)\n",
      "      (bn1): BatchNorm2d(0.001 M, 0.001% Params, 0.0 GMac, 0.001% MACs, 512, eps=1e-05, momentum=0.1, affine=True, track_running_stats=True)\n",
      "      (conv2): Conv2d(0.074 M, 0.064% Params, 0.014 GMac, 0.069% MACs, 512, 1024, kernel_size=(3, 3), stride=(1, 1), padding=(1, 1), groups=64, bias=False)\n",
      "      (bn2): BatchNorm2d(0.002 M, 0.002% Params, 0.0 GMac, 0.002% MACs, 1024, eps=1e-05, momentum=0.1, affine=True, track_running_stats=True)\n",
      "      (conv3): Conv2d(1.049 M, 0.911% Params, 0.206 GMac, 0.987% MACs, 1024, 1024, kernel_size=(1, 1), stride=(1, 1), bias=False)\n",
      "      (bn3): BatchNorm2d(0.002 M, 0.002% Params, 0.0 GMac, 0.002% MACs, 1024, eps=1e-05, momentum=0.1, affine=True, track_running_stats=True)\n",
      "      (relu): ReLU(0.0 M, 0.000% Params, 0.001 GMac, 0.002% MACs, inplace=True)\n",
      "      (se_module): SEModule(\n",
      "        0.132 M, 0.115% Params, 0.0 GMac, 0.002% MACs, \n",
      "        (avg_pool): AdaptiveAvgPool2d(0.0 M, 0.000% Params, 0.0 GMac, 0.001% MACs, output_size=1)\n",
      "        (fc1): Conv2d(0.066 M, 0.057% Params, 0.0 GMac, 0.000% MACs, 1024, 64, kernel_size=(1, 1), stride=(1, 1))\n",
      "        (relu): ReLU(0.0 M, 0.000% Params, 0.0 GMac, 0.000% MACs, inplace=True)\n",
      "        (fc2): Conv2d(0.067 M, 0.058% Params, 0.0 GMac, 0.000% MACs, 64, 1024, kernel_size=(1, 1), stride=(1, 1))\n",
      "        (sigmoid): Sigmoid(0.0 M, 0.000% Params, 0.0 GMac, 0.000% MACs, )\n",
      "      )\n",
      "    )\n",
      "    (33): SEBottleneck(\n",
      "      1.784 M, 1.550% Params, 0.325 GMac, 1.559% MACs, \n",
      "      (conv1): Conv2d(0.524 M, 0.456% Params, 0.103 GMac, 0.494% MACs, 1024, 512, kernel_size=(1, 1), stride=(1, 1), bias=False)\n",
      "      (bn1): BatchNorm2d(0.001 M, 0.001% Params, 0.0 GMac, 0.001% MACs, 512, eps=1e-05, momentum=0.1, affine=True, track_running_stats=True)\n",
      "      (conv2): Conv2d(0.074 M, 0.064% Params, 0.014 GMac, 0.069% MACs, 512, 1024, kernel_size=(3, 3), stride=(1, 1), padding=(1, 1), groups=64, bias=False)\n",
      "      (bn2): BatchNorm2d(0.002 M, 0.002% Params, 0.0 GMac, 0.002% MACs, 1024, eps=1e-05, momentum=0.1, affine=True, track_running_stats=True)\n",
      "      (conv3): Conv2d(1.049 M, 0.911% Params, 0.206 GMac, 0.987% MACs, 1024, 1024, kernel_size=(1, 1), stride=(1, 1), bias=False)\n",
      "      (bn3): BatchNorm2d(0.002 M, 0.002% Params, 0.0 GMac, 0.002% MACs, 1024, eps=1e-05, momentum=0.1, affine=True, track_running_stats=True)\n",
      "      (relu): ReLU(0.0 M, 0.000% Params, 0.001 GMac, 0.002% MACs, inplace=True)\n",
      "      (se_module): SEModule(\n",
      "        0.132 M, 0.115% Params, 0.0 GMac, 0.002% MACs, \n",
      "        (avg_pool): AdaptiveAvgPool2d(0.0 M, 0.000% Params, 0.0 GMac, 0.001% MACs, output_size=1)\n",
      "        (fc1): Conv2d(0.066 M, 0.057% Params, 0.0 GMac, 0.000% MACs, 1024, 64, kernel_size=(1, 1), stride=(1, 1))\n",
      "        (relu): ReLU(0.0 M, 0.000% Params, 0.0 GMac, 0.000% MACs, inplace=True)\n",
      "        (fc2): Conv2d(0.067 M, 0.058% Params, 0.0 GMac, 0.000% MACs, 64, 1024, kernel_size=(1, 1), stride=(1, 1))\n",
      "        (sigmoid): Sigmoid(0.0 M, 0.000% Params, 0.0 GMac, 0.000% MACs, )\n",
      "      )\n",
      "    )\n",
      "    (34): SEBottleneck(\n",
      "      1.784 M, 1.550% Params, 0.325 GMac, 1.559% MACs, \n",
      "      (conv1): Conv2d(0.524 M, 0.456% Params, 0.103 GMac, 0.494% MACs, 1024, 512, kernel_size=(1, 1), stride=(1, 1), bias=False)\n",
      "      (bn1): BatchNorm2d(0.001 M, 0.001% Params, 0.0 GMac, 0.001% MACs, 512, eps=1e-05, momentum=0.1, affine=True, track_running_stats=True)\n",
      "      (conv2): Conv2d(0.074 M, 0.064% Params, 0.014 GMac, 0.069% MACs, 512, 1024, kernel_size=(3, 3), stride=(1, 1), padding=(1, 1), groups=64, bias=False)\n",
      "      (bn2): BatchNorm2d(0.002 M, 0.002% Params, 0.0 GMac, 0.002% MACs, 1024, eps=1e-05, momentum=0.1, affine=True, track_running_stats=True)\n",
      "      (conv3): Conv2d(1.049 M, 0.911% Params, 0.206 GMac, 0.987% MACs, 1024, 1024, kernel_size=(1, 1), stride=(1, 1), bias=False)\n",
      "      (bn3): BatchNorm2d(0.002 M, 0.002% Params, 0.0 GMac, 0.002% MACs, 1024, eps=1e-05, momentum=0.1, affine=True, track_running_stats=True)\n",
      "      (relu): ReLU(0.0 M, 0.000% Params, 0.001 GMac, 0.002% MACs, inplace=True)\n",
      "      (se_module): SEModule(\n",
      "        0.132 M, 0.115% Params, 0.0 GMac, 0.002% MACs, \n",
      "        (avg_pool): AdaptiveAvgPool2d(0.0 M, 0.000% Params, 0.0 GMac, 0.001% MACs, output_size=1)\n",
      "        (fc1): Conv2d(0.066 M, 0.057% Params, 0.0 GMac, 0.000% MACs, 1024, 64, kernel_size=(1, 1), stride=(1, 1))\n",
      "        (relu): ReLU(0.0 M, 0.000% Params, 0.0 GMac, 0.000% MACs, inplace=True)\n",
      "        (fc2): Conv2d(0.067 M, 0.058% Params, 0.0 GMac, 0.000% MACs, 64, 1024, kernel_size=(1, 1), stride=(1, 1))\n",
      "        (sigmoid): Sigmoid(0.0 M, 0.000% Params, 0.0 GMac, 0.000% MACs, )\n",
      "      )\n",
      "    )\n",
      "    (35): SEBottleneck(\n",
      "      1.784 M, 1.550% Params, 0.325 GMac, 1.559% MACs, \n",
      "      (conv1): Conv2d(0.524 M, 0.456% Params, 0.103 GMac, 0.494% MACs, 1024, 512, kernel_size=(1, 1), stride=(1, 1), bias=False)\n",
      "      (bn1): BatchNorm2d(0.001 M, 0.001% Params, 0.0 GMac, 0.001% MACs, 512, eps=1e-05, momentum=0.1, affine=True, track_running_stats=True)\n",
      "      (conv2): Conv2d(0.074 M, 0.064% Params, 0.014 GMac, 0.069% MACs, 512, 1024, kernel_size=(3, 3), stride=(1, 1), padding=(1, 1), groups=64, bias=False)\n",
      "      (bn2): BatchNorm2d(0.002 M, 0.002% Params, 0.0 GMac, 0.002% MACs, 1024, eps=1e-05, momentum=0.1, affine=True, track_running_stats=True)\n",
      "      (conv3): Conv2d(1.049 M, 0.911% Params, 0.206 GMac, 0.987% MACs, 1024, 1024, kernel_size=(1, 1), stride=(1, 1), bias=False)\n",
      "      (bn3): BatchNorm2d(0.002 M, 0.002% Params, 0.0 GMac, 0.002% MACs, 1024, eps=1e-05, momentum=0.1, affine=True, track_running_stats=True)\n",
      "      (relu): ReLU(0.0 M, 0.000% Params, 0.001 GMac, 0.002% MACs, inplace=True)\n",
      "      (se_module): SEModule(\n",
      "        0.132 M, 0.115% Params, 0.0 GMac, 0.002% MACs, \n",
      "        (avg_pool): AdaptiveAvgPool2d(0.0 M, 0.000% Params, 0.0 GMac, 0.001% MACs, output_size=1)\n",
      "        (fc1): Conv2d(0.066 M, 0.057% Params, 0.0 GMac, 0.000% MACs, 1024, 64, kernel_size=(1, 1), stride=(1, 1))\n",
      "        (relu): ReLU(0.0 M, 0.000% Params, 0.0 GMac, 0.000% MACs, inplace=True)\n",
      "        (fc2): Conv2d(0.067 M, 0.058% Params, 0.0 GMac, 0.000% MACs, 64, 1024, kernel_size=(1, 1), stride=(1, 1))\n",
      "        (sigmoid): Sigmoid(0.0 M, 0.000% Params, 0.0 GMac, 0.000% MACs, )\n",
      "      )\n",
      "    )\n",
      "  )\n",
      "  (layer4): Sequential(\n",
      "    39.199 M, 34.060% Params, 2.001 GMac, 9.610% MACs, \n",
      "    (0): SEBottleneck(\n",
      "      24.953 M, 21.681% Params, 1.352 GMac, 6.496% MACs, \n",
      "      (conv1): Conv2d(1.049 M, 0.911% Params, 0.206 GMac, 0.987% MACs, 1024, 1024, kernel_size=(1, 1), stride=(1, 1), bias=False)\n",
      "      (bn1): BatchNorm2d(0.002 M, 0.002% Params, 0.0 GMac, 0.002% MACs, 1024, eps=1e-05, momentum=0.1, affine=True, track_running_stats=True)\n",
      "      (conv2): Conv2d(0.295 M, 0.256% Params, 0.014 GMac, 0.069% MACs, 1024, 2048, kernel_size=(3, 3), stride=(2, 2), padding=(1, 1), groups=64, bias=False)\n",
      "      (bn2): BatchNorm2d(0.004 M, 0.004% Params, 0.0 GMac, 0.001% MACs, 2048, eps=1e-05, momentum=0.1, affine=True, track_running_stats=True)\n",
      "      (conv3): Conv2d(4.194 M, 3.644% Params, 0.206 GMac, 0.987% MACs, 2048, 2048, kernel_size=(1, 1), stride=(1, 1), bias=False)\n",
      "      (bn3): BatchNorm2d(0.004 M, 0.004% Params, 0.0 GMac, 0.001% MACs, 2048, eps=1e-05, momentum=0.1, affine=True, track_running_stats=True)\n",
      "      (relu): ReLU(0.0 M, 0.000% Params, 0.0 GMac, 0.002% MACs, inplace=True)\n",
      "      (se_module): SEModule(\n",
      "        0.526 M, 0.457% Params, 0.001 GMac, 0.003% MACs, \n",
      "        (avg_pool): AdaptiveAvgPool2d(0.0 M, 0.000% Params, 0.0 GMac, 0.000% MACs, output_size=1)\n",
      "        (fc1): Conv2d(0.262 M, 0.228% Params, 0.0 GMac, 0.001% MACs, 2048, 128, kernel_size=(1, 1), stride=(1, 1))\n",
      "        (relu): ReLU(0.0 M, 0.000% Params, 0.0 GMac, 0.000% MACs, inplace=True)\n",
      "        (fc2): Conv2d(0.264 M, 0.230% Params, 0.0 GMac, 0.001% MACs, 128, 2048, kernel_size=(1, 1), stride=(1, 1))\n",
      "        (sigmoid): Sigmoid(0.0 M, 0.000% Params, 0.0 GMac, 0.000% MACs, )\n",
      "      )\n",
      "      (downsample): Sequential(\n",
      "        18.878 M, 16.403% Params, 0.925 GMac, 4.444% MACs, \n",
      "        (0): Conv2d(18.874 M, 16.400% Params, 0.925 GMac, 4.443% MACs, 1024, 2048, kernel_size=(3, 3), stride=(2, 2), padding=(1, 1), bias=False)\n",
      "        (1): BatchNorm2d(0.004 M, 0.004% Params, 0.0 GMac, 0.001% MACs, 2048, eps=1e-05, momentum=0.1, affine=True, track_running_stats=True)\n",
      "      )\n",
      "    )\n",
      "    (1): SEBottleneck(\n",
      "      7.123 M, 6.189% Params, 0.324 GMac, 1.557% MACs, \n",
      "      (conv1): Conv2d(2.097 M, 1.822% Params, 0.103 GMac, 0.494% MACs, 2048, 1024, kernel_size=(1, 1), stride=(1, 1), bias=False)\n",
      "      (bn1): BatchNorm2d(0.002 M, 0.002% Params, 0.0 GMac, 0.000% MACs, 1024, eps=1e-05, momentum=0.1, affine=True, track_running_stats=True)\n",
      "      (conv2): Conv2d(0.295 M, 0.256% Params, 0.014 GMac, 0.069% MACs, 1024, 2048, kernel_size=(3, 3), stride=(1, 1), padding=(1, 1), groups=64, bias=False)\n",
      "      (bn2): BatchNorm2d(0.004 M, 0.004% Params, 0.0 GMac, 0.001% MACs, 2048, eps=1e-05, momentum=0.1, affine=True, track_running_stats=True)\n",
      "      (conv3): Conv2d(4.194 M, 3.644% Params, 0.206 GMac, 0.987% MACs, 2048, 2048, kernel_size=(1, 1), stride=(1, 1), bias=False)\n",
      "      (bn3): BatchNorm2d(0.004 M, 0.004% Params, 0.0 GMac, 0.001% MACs, 2048, eps=1e-05, momentum=0.1, affine=True, track_running_stats=True)\n",
      "      (relu): ReLU(0.0 M, 0.000% Params, 0.0 GMac, 0.001% MACs, inplace=True)\n",
      "      (se_module): SEModule(\n",
      "        0.526 M, 0.457% Params, 0.001 GMac, 0.003% MACs, \n",
      "        (avg_pool): AdaptiveAvgPool2d(0.0 M, 0.000% Params, 0.0 GMac, 0.000% MACs, output_size=1)\n",
      "        (fc1): Conv2d(0.262 M, 0.228% Params, 0.0 GMac, 0.001% MACs, 2048, 128, kernel_size=(1, 1), stride=(1, 1))\n",
      "        (relu): ReLU(0.0 M, 0.000% Params, 0.0 GMac, 0.000% MACs, inplace=True)\n",
      "        (fc2): Conv2d(0.264 M, 0.230% Params, 0.0 GMac, 0.001% MACs, 128, 2048, kernel_size=(1, 1), stride=(1, 1))\n",
      "        (sigmoid): Sigmoid(0.0 M, 0.000% Params, 0.0 GMac, 0.000% MACs, )\n",
      "      )\n",
      "    )\n",
      "    (2): SEBottleneck(\n",
      "      7.123 M, 6.189% Params, 0.324 GMac, 1.557% MACs, \n",
      "      (conv1): Conv2d(2.097 M, 1.822% Params, 0.103 GMac, 0.494% MACs, 2048, 1024, kernel_size=(1, 1), stride=(1, 1), bias=False)\n",
      "      (bn1): BatchNorm2d(0.002 M, 0.002% Params, 0.0 GMac, 0.000% MACs, 1024, eps=1e-05, momentum=0.1, affine=True, track_running_stats=True)\n",
      "      (conv2): Conv2d(0.295 M, 0.256% Params, 0.014 GMac, 0.069% MACs, 1024, 2048, kernel_size=(3, 3), stride=(1, 1), padding=(1, 1), groups=64, bias=False)\n",
      "      (bn2): BatchNorm2d(0.004 M, 0.004% Params, 0.0 GMac, 0.001% MACs, 2048, eps=1e-05, momentum=0.1, affine=True, track_running_stats=True)\n",
      "      (conv3): Conv2d(4.194 M, 3.644% Params, 0.206 GMac, 0.987% MACs, 2048, 2048, kernel_size=(1, 1), stride=(1, 1), bias=False)\n",
      "      (bn3): BatchNorm2d(0.004 M, 0.004% Params, 0.0 GMac, 0.001% MACs, 2048, eps=1e-05, momentum=0.1, affine=True, track_running_stats=True)\n",
      "      (relu): ReLU(0.0 M, 0.000% Params, 0.0 GMac, 0.001% MACs, inplace=True)\n",
      "      (se_module): SEModule(\n",
      "        0.526 M, 0.457% Params, 0.001 GMac, 0.003% MACs, \n",
      "        (avg_pool): AdaptiveAvgPool2d(0.0 M, 0.000% Params, 0.0 GMac, 0.000% MACs, output_size=1)\n",
      "        (fc1): Conv2d(0.262 M, 0.228% Params, 0.0 GMac, 0.001% MACs, 2048, 128, kernel_size=(1, 1), stride=(1, 1))\n",
      "        (relu): ReLU(0.0 M, 0.000% Params, 0.0 GMac, 0.000% MACs, inplace=True)\n",
      "        (fc2): Conv2d(0.264 M, 0.230% Params, 0.0 GMac, 0.001% MACs, 128, 2048, kernel_size=(1, 1), stride=(1, 1))\n",
      "        (sigmoid): Sigmoid(0.0 M, 0.000% Params, 0.0 GMac, 0.000% MACs, )\n",
      "      )\n",
      "    )\n",
      "  )\n",
      "  (avg_pool): AvgPool2d(0.0 M, 0.000% Params, 0.0 GMac, 0.000% MACs, kernel_size=7, stride=1, padding=0)\n",
      "  (dropout): Dropout(0.0 M, 0.000% Params, 0.0 GMac, 0.000% MACs, p=0.2, inplace=False)\n",
      "  (last_linear): Linear(2.049 M, 1.780% Params, 0.002 GMac, 0.010% MACs, in_features=2048, out_features=1000, bias=True)\n",
      ")\n"
     ]
    }
   ],
   "source": [
    "model = pm.__dict__['senet154']()\n",
    "macs, params = get_model_complexity_info(model, (3, 224, 224), as_strings=True,\n",
    "                                    print_per_layer_stat=True, verbose=True)"
   ]
  },
  {
   "cell_type": "code",
   "execution_count": 7,
   "metadata": {},
   "outputs": [
    {
     "output_type": "stream",
     "name": "stdout",
     "text": [
      "20.82 GMac\n"
     ]
    }
   ],
   "source": [
    "print(macs)"
   ]
  },
  {
   "cell_type": "code",
   "execution_count": 8,
   "metadata": {},
   "outputs": [
    {
     "output_type": "stream",
     "name": "stdout",
     "text": [
      "115.09 M\n"
     ]
    }
   ],
   "source": [
    "print(params)"
   ]
  },
  {
   "cell_type": "code",
   "execution_count": null,
   "metadata": {},
   "outputs": [],
   "source": []
  }
 ]
}