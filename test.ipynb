{
 "metadata": {
  "language_info": {
   "codemirror_mode": {
    "name": "ipython",
    "version": 3
   },
   "file_extension": ".py",
   "mimetype": "text/x-python",
   "name": "python",
   "nbconvert_exporter": "python",
   "pygments_lexer": "ipython3",
   "version": "3.8.5-final"
  },
  "orig_nbformat": 2,
  "kernelspec": {
   "name": "python3",
   "display_name": "Python 3.8.5 64-bit ('py38': conda)",
   "metadata": {
    "interpreter": {
     "hash": "1496957c8aab37590f76db8a7e1516009df8da77cd429dbad15e6134d7f74499"
    }
   }
  }
 },
 "nbformat": 4,
 "nbformat_minor": 2,
 "cells": [
  {
   "cell_type": "code",
   "execution_count": 11,
   "metadata": {},
   "outputs": [],
   "source": [
    "import torch\n",
    "from torchvision.models import densenet121\n",
    "import pretrained_models as pm\n",
    "from thop import profile"
   ]
  },
  {
   "cell_type": "code",
   "execution_count": 12,
   "metadata": {},
   "outputs": [
    {
     "output_type": "stream",
     "name": "stdout",
     "text": [
      "[INFO] Register count_convNd() for <class 'torch.nn.modules.conv.Conv2d'>.\n[INFO] Register count_bn() for <class 'torch.nn.modules.batchnorm.BatchNorm2d'>.\n[INFO] Register zero_ops() for <class 'torch.nn.modules.activation.ReLU'>.\n[INFO] Register zero_ops() for <class 'torch.nn.modules.pooling.MaxPool2d'>.\n\u001b[91m[WARN] Cannot find rule for <class 'torch.nn.modules.container.Sequential'>. Treat it as zero Macs and zero Params.\u001b[00m\n[INFO] Register count_adap_avgpool() for <class 'torch.nn.modules.pooling.AdaptiveAvgPool2d'>.\n\u001b[91m[WARN] Cannot find rule for <class 'torch.nn.modules.activation.Sigmoid'>. Treat it as zero Macs and zero Params.\u001b[00m\n\u001b[91m[WARN] Cannot find rule for <class 'pretrained_models.models.classfication_model.SEModule'>. Treat it as zero Macs and zero Params.\u001b[00m\n\u001b[91m[WARN] Cannot find rule for <class 'pretrained_models.models.classfication_model.SEBottleneck'>. Treat it as zero Macs and zero Params.\u001b[00m\n[INFO] Register count_avgpool() for <class 'torch.nn.modules.pooling.AvgPool2d'>.\n[INFO] Register zero_ops() for <class 'torch.nn.modules.dropout.Dropout'>.\n[INFO] Register count_linear() for <class 'torch.nn.modules.linear.Linear'>.\n\u001b[91m[WARN] Cannot find rule for <class 'pretrained_models.models.classfication_model.SENet'>. Treat it as zero Macs and zero Params.\u001b[00m\n"
     ]
    }
   ],
   "source": [
    "model = pm.__dict__['senet154']()\n",
    "img = torch.randn(1, 3, 224, 224)\n",
    "op, params = profile(model, inputs=(img, ))"
   ]
  },
  {
   "cell_type": "code",
   "execution_count": 13,
   "metadata": {},
   "outputs": [
    {
     "output_type": "stream",
     "name": "stdout",
     "text": [
      "the number of op is  20778881456.0\nthe number of params is  115088984.0\n"
     ]
    }
   ],
   "source": [
    "print(\"the number of op is \", op)\n",
    "print(\"the number of params is \", params)"
   ]
  },
  {
   "cell_type": "code",
   "execution_count": 4,
   "metadata": {},
   "outputs": [],
   "source": [
    "import torch\n",
    "import pretrained_models as pm"
   ]
  },
  {
   "cell_type": "code",
   "execution_count": 5,
   "metadata": {},
   "outputs": [],
   "source": [
    "from ptflops import get_model_complexity_info"
   ]
  },
  {
   "cell_type": "code",
   "execution_count": 1,
   "metadata": {
    "tags": []
   },
   "outputs": [
    {
     "output_type": "error",
     "ename": "NameError",
     "evalue": "name 'pm' is not defined",
     "traceback": [
      "\u001b[1;31m---------------------------------------------------------------------------\u001b[0m",
      "\u001b[1;31mNameError\u001b[0m                                 Traceback (most recent call last)",
      "\u001b[1;32m<ipython-input-1-50544ce83f65>\u001b[0m in \u001b[0;36m<module>\u001b[1;34m\u001b[0m\n\u001b[1;32m----> 1\u001b[1;33m \u001b[0mmodel\u001b[0m \u001b[1;33m=\u001b[0m \u001b[0mpm\u001b[0m\u001b[1;33m.\u001b[0m\u001b[0m__dict__\u001b[0m\u001b[1;33m[\u001b[0m\u001b[1;34m'senet154'\u001b[0m\u001b[1;33m]\u001b[0m\u001b[1;33m(\u001b[0m\u001b[1;33m)\u001b[0m\u001b[1;33m\u001b[0m\u001b[1;33m\u001b[0m\u001b[0m\n\u001b[0m\u001b[0;32m      2\u001b[0m macs, params = get_model_complexity_info(model, (3, 224, 224), as_strings=True,\n\u001b[0;32m      3\u001b[0m                                     print_per_layer_stat=False, verbose=True)\n",
      "\u001b[1;31mNameError\u001b[0m: name 'pm' is not defined"
     ]
    }
   ],
   "source": [
    "model = pm.__dict__['senet154']()\n",
    "macs, params = get_model_complexity_info(model, (3, 224, 224), as_strings=True,\n",
    "                                    print_per_layer_stat=False, verbose=True)"
   ]
  },
  {
   "cell_type": "code",
   "execution_count": 7,
   "metadata": {},
   "outputs": [
    {
     "output_type": "stream",
     "name": "stdout",
     "text": [
      "20.82 GMac\n"
     ]
    }
   ],
   "source": [
    "print(macs)"
   ]
  },
  {
   "cell_type": "code",
   "execution_count": 8,
   "metadata": {},
   "outputs": [
    {
     "output_type": "stream",
     "name": "stdout",
     "text": [
      "115.09 M\n"
     ]
    }
   ],
   "source": [
    "print(params)"
   ]
  },
  {
   "cell_type": "code",
   "execution_count": 1,
   "metadata": {},
   "outputs": [],
   "source": [
    "import torch\n",
    "import torch.nn as nn\n",
    "from efficientnet_pytorch import EfficientNet"
   ]
  },
  {
   "cell_type": "code",
   "execution_count": 2,
   "metadata": {},
   "outputs": [
    {
     "output_type": "stream",
     "name": "stderr",
     "text": [
      "Downloading: \"https://github.com/lukemelas/EfficientNet-PyTorch/releases/download/1.0/efficientnet-b3-5fb5a3c3.pth\" to C:\\Users\\10125/.cache\\torch\\hub\\checkpoints\\efficientnet-b3-5fb5a3c3.pth\n",
      "100.0%\n",
      "Loaded pretrained weights for efficientnet-b3\n"
     ]
    }
   ],
   "source": [
    "model = EfficientNet.from_pretrained(\"efficientnet-b3\")"
   ]
  },
  {
   "cell_type": "code",
   "execution_count": 3,
   "metadata": {},
   "outputs": [
    {
     "output_type": "stream",
     "name": "stdout",
     "text": [
      "Warning: module ZeroPad2d is treated as a zero-op.\nWarning: module Conv2dStaticSamePadding is treated as a zero-op.\nWarning: module Identity is treated as a zero-op.\nWarning: module MemoryEfficientSwish is treated as a zero-op.\nWarning: module MBConvBlock is treated as a zero-op.\nWarning: module Dropout is treated as a zero-op.\nWarning: module EfficientNet is treated as a zero-op.\n"
     ]
    }
   ],
   "source": [
    "from ptflops import get_model_complexity_info\n",
    "\n",
    "macs, params = get_model_complexity_info(model, (3, 224, 224), as_strings=True,\n",
    "                                    print_per_layer_stat=False, verbose=True)"
   ]
  },
  {
   "cell_type": "code",
   "execution_count": 4,
   "metadata": {},
   "outputs": [
    {
     "output_type": "stream",
     "name": "stdout",
     "text": [
      "0.03 GMac\n"
     ]
    }
   ],
   "source": [
    "print(macs)"
   ]
  },
  {
   "cell_type": "code",
   "execution_count": 6,
   "metadata": {},
   "outputs": [
    {
     "output_type": "stream",
     "name": "stdout",
     "text": [
      "[INFO] Register zero_ops() for <class 'torch.nn.modules.padding.ZeroPad2d'>.\n\u001b[91m[WARN] Cannot find rule for <class 'efficientnet_pytorch.utils.Conv2dStaticSamePadding'>. Treat it as zero Macs and zero Params.\u001b[00m\n[INFO] Register count_bn() for <class 'torch.nn.modules.batchnorm.BatchNorm2d'>.\n\u001b[91m[WARN] Cannot find rule for <class 'torch.nn.modules.linear.Identity'>. Treat it as zero Macs and zero Params.\u001b[00m\n\u001b[91m[WARN] Cannot find rule for <class 'efficientnet_pytorch.utils.MemoryEfficientSwish'>. Treat it as zero Macs and zero Params.\u001b[00m\n\u001b[91m[WARN] Cannot find rule for <class 'efficientnet_pytorch.model.MBConvBlock'>. Treat it as zero Macs and zero Params.\u001b[00m\n\u001b[91m[WARN] Cannot find rule for <class 'torch.nn.modules.container.ModuleList'>. Treat it as zero Macs and zero Params.\u001b[00m\n[INFO] Register count_adap_avgpool() for <class 'torch.nn.modules.pooling.AdaptiveAvgPool2d'>.\n[INFO] Register zero_ops() for <class 'torch.nn.modules.dropout.Dropout'>.\n[INFO] Register count_linear() for <class 'torch.nn.modules.linear.Linear'>.\n\u001b[91m[WARN] Cannot find rule for <class 'efficientnet_pytorch.model.EfficientNet'>. Treat it as zero Macs and zero Params.\u001b[00m\n"
     ]
    }
   ],
   "source": [
    "from thop import profile\n",
    "img = torch.randn(1, 3, 224, 224)\n",
    "op, params = profile(model, inputs=(img, ))"
   ]
  },
  {
   "cell_type": "code",
   "execution_count": 7,
   "metadata": {},
   "outputs": [
    {
     "output_type": "stream",
     "name": "stdout",
     "text": [
      "27585152.0\n"
     ]
    }
   ],
   "source": [
    "print(op)"
   ]
  },
  {
   "cell_type": "code",
   "execution_count": 1,
   "metadata": {},
   "outputs": [
    {
     "output_type": "stream",
     "name": "stdout",
     "text": [
      "Loaded pretrained weights for efficientnet-b3\n"
     ]
    }
   ],
   "source": [
    "import torch\n",
    "import torch.nn as nn\n",
    "from efficientnet_pytorch import EfficientNet\n",
    "\n",
    "model = EfficientNet.from_pretrained(\"efficientnet-b3\")"
   ]
  },
  {
   "cell_type": "code",
   "execution_count": 2,
   "metadata": {},
   "outputs": [],
   "source": [
    "from fvcore.nn import FlopCountAnalysis\n",
    "\n",
    "inputs = (torch.randn((1,3,224,224)))\n",
    "flops = FlopCountAnalysis(model, inputs)"
   ]
  },
  {
   "cell_type": "code",
   "execution_count": 3,
   "metadata": {},
   "outputs": [
    {
     "output_type": "stream",
     "name": "stderr",
     "text": [
      "Unsupported operator aten::batch_norm encountered 78 time(s)\n",
      "Unsupported operator prim::PythonOp encountered 78 time(s)\n",
      "Unsupported operator aten::adaptive_avg_pool2d encountered 27 time(s)\n",
      "Unsupported operator aten::sigmoid encountered 26 time(s)\n",
      "Unsupported operator aten::mul encountered 45 time(s)\n",
      "Unsupported operator aten::rand encountered 19 time(s)\n",
      "Unsupported operator aten::add encountered 38 time(s)\n",
      "Unsupported operator aten::div encountered 19 time(s)\n",
      "The following submodules of the model were never called during the trace of the graph. They may be unused, or they were accessed by direct calls to .forward() or via other python methods. In the latter case they will have zeros for statistics, though their statistics will still contribute to their parent calling module.\n",
      "Module never called: _blocks.20._se_expand.static_padding\n",
      "Module never called: _blocks.1._project_conv.static_padding\n",
      "Module never called: _blocks.17._se_reduce.static_padding\n",
      "Module never called: _blocks.6._se_expand.static_padding\n",
      "Module never called: _blocks.6._expand_conv.static_padding\n",
      "Module never called: _blocks.9._se_reduce.static_padding\n",
      "Module never called: _blocks.16._se_reduce.static_padding\n",
      "Module never called: _blocks.17._expand_conv.static_padding\n",
      "Module never called: _blocks.3._expand_conv.static_padding\n",
      "Module never called: _blocks.11._se_expand.static_padding\n",
      "Module never called: _blocks.11._se_reduce.static_padding\n",
      "Module never called: _blocks.9._expand_conv.static_padding\n",
      "Module never called: _blocks.4._project_conv.static_padding\n",
      "Module never called: _blocks.2._expand_conv.static_padding\n",
      "Module never called: _blocks.3._project_conv.static_padding\n",
      "Module never called: _blocks.14._project_conv.static_padding\n",
      "Module never called: _blocks.3._se_expand.static_padding\n",
      "Module never called: _blocks.15._project_conv.static_padding\n",
      "Module never called: _blocks.24._se_expand.static_padding\n",
      "Module never called: _blocks.25._project_conv.static_padding\n",
      "Module never called: _blocks.1._se_expand.static_padding\n",
      "Module never called: _blocks.3._se_reduce.static_padding\n",
      "Module never called: _blocks.10._se_expand.static_padding\n",
      "Module never called: _blocks.22._project_conv.static_padding\n",
      "Module never called: _blocks.2._project_conv.static_padding\n",
      "Module never called: _blocks.0._se_expand.static_padding\n",
      "Module never called: _blocks.15._expand_conv.static_padding\n",
      "Module never called: _blocks.24._expand_conv.static_padding\n",
      "Module never called: _blocks.6._project_conv.static_padding\n",
      "Module never called: _blocks.7._se_reduce.static_padding\n",
      "Module never called: _blocks.22._se_reduce.static_padding\n",
      "Module never called: _blocks.22._expand_conv.static_padding\n",
      "Module never called: _blocks\n",
      "Module never called: _blocks.9._se_expand.static_padding\n",
      "Module never called: _blocks.17._project_conv.static_padding\n",
      "Module never called: _blocks.7._se_expand.static_padding\n",
      "Module never called: _blocks.19._project_conv.static_padding\n",
      "Module never called: _blocks.24._project_conv.static_padding\n",
      "Module never called: _blocks.23._expand_conv.static_padding\n",
      "Module never called: _blocks.25._se_expand.static_padding\n",
      "Module never called: _blocks.8._se_reduce.static_padding\n",
      "Module never called: _blocks.16._project_conv.static_padding\n",
      "Module never called: _blocks.13._expand_conv.static_padding\n",
      "Module never called: _blocks.25._se_reduce.static_padding\n",
      "Module never called: _blocks.20._expand_conv.static_padding\n",
      "Module never called: _blocks.14._expand_conv.static_padding\n",
      "Module never called: _blocks.25._expand_conv.static_padding\n",
      "Module never called: _blocks.8._se_expand.static_padding\n",
      "Module never called: _blocks.22._se_expand.static_padding\n",
      "Module never called: _blocks.16._se_expand.static_padding\n",
      "Module never called: _blocks.12._se_reduce.static_padding\n",
      "Module never called: _blocks.4._se_reduce.static_padding\n",
      "Module never called: _blocks.13._se_reduce.static_padding\n",
      "Module never called: _blocks.23._se_expand.static_padding\n",
      "Module never called: _blocks.16._expand_conv.static_padding\n",
      "Module never called: _blocks.0._project_conv.static_padding\n",
      "Module never called: _blocks.2._se_reduce.static_padding\n",
      "Module never called: _blocks.12._se_expand.static_padding\n",
      "Module never called: _blocks.11._expand_conv.static_padding\n",
      "Module never called: _blocks.0._se_reduce.static_padding\n",
      "Module never called: _blocks.5._project_conv.static_padding\n",
      "Module never called: _blocks.1._se_reduce.static_padding\n",
      "Module never called: _blocks.12._expand_conv.static_padding\n",
      "Module never called: _blocks.13._project_conv.static_padding\n",
      "Module never called: _blocks.21._se_expand.static_padding\n",
      "Module never called: _blocks.10._expand_conv.static_padding\n",
      "Module never called: _blocks.15._se_reduce.static_padding\n",
      "Module never called: _blocks.7._expand_conv.static_padding\n",
      "Module never called: _blocks.8._project_conv.static_padding\n",
      "Module never called: _blocks.12._project_conv.static_padding\n",
      "Module never called: _blocks.23._se_reduce.static_padding\n",
      "Module never called: _blocks.13._se_expand.static_padding\n",
      "Module never called: _blocks.14._se_expand.static_padding\n",
      "Module never called: _blocks.5._se_expand.static_padding\n",
      "Module never called: _blocks.11._project_conv.static_padding\n",
      "Module never called: _blocks.19._expand_conv.static_padding\n",
      "Module never called: _blocks.20._se_reduce.static_padding\n",
      "Module never called: _blocks.14._se_reduce.static_padding\n",
      "Module never called: _blocks.24._se_reduce.static_padding\n",
      "Module never called: _blocks.18._se_reduce.static_padding\n",
      "Module never called: _blocks.10._se_reduce.static_padding\n",
      "Module never called: _blocks.19._se_expand.static_padding\n",
      "Module never called: _blocks.5._se_reduce.static_padding\n",
      "Module never called: _blocks.21._expand_conv.static_padding\n",
      "Module never called: _blocks.10._project_conv.static_padding\n",
      "Module never called: _blocks.4._expand_conv.static_padding\n",
      "Module never called: _blocks.23._project_conv.static_padding\n",
      "Module never called: _blocks.5._expand_conv.static_padding\n",
      "Module never called: _blocks.4._se_expand.static_padding\n",
      "Module never called: _blocks.15._se_expand.static_padding\n",
      "Module never called: _blocks.7._project_conv.static_padding\n",
      "Module never called: _blocks.17._se_expand.static_padding\n",
      "Module never called: _blocks.18._project_conv.static_padding\n",
      "Module never called: _blocks.21._project_conv.static_padding\n",
      "Module never called: _blocks.6._se_reduce.static_padding\n",
      "Module never called: _blocks.20._project_conv.static_padding\n",
      "Module never called: _blocks.8._expand_conv.static_padding\n",
      "Module never called: _blocks.2._se_expand.static_padding\n",
      "Module never called: _blocks.18._expand_conv.static_padding\n",
      "Module never called: _blocks.9._project_conv.static_padding\n",
      "Module never called: _conv_head.static_padding\n",
      "Module never called: _blocks.19._se_reduce.static_padding\n",
      "Module never called: _blocks.18._se_expand.static_padding\n",
      "Module never called: _blocks.21._se_reduce.static_padding\n"
     ]
    },
    {
     "output_type": "execute_result",
     "data": {
      "text/plain": [
       "962708240"
      ]
     },
     "metadata": {},
     "execution_count": 3
    }
   ],
   "source": [
    "flops.total()"
   ]
  },
  {
   "cell_type": "code",
   "execution_count": null,
   "metadata": {},
   "outputs": [],
   "source": []
  }
 ]
}